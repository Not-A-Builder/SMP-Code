{
 "cells": [
  {
   "cell_type": "markdown",
   "metadata": {},
   "source": [
    "### Importing Libraries\n",
    "\n",
    "NumPy is a package in Python used for Scientific Computing. NumPy package is used to perform different operations.  \n",
    "Pandas is used for data manipulation and analysis. In particular, it offers data structures and operations for manipulating numerical tables and time series.\n",
    "Matplotlib is a plotting library for the Python programming language and its numerical mathematics extension NumPy.  \n",
    "Sklearn is a simple and efficient tool for data mining and data analysis built on numpy, scipy and matplotlib."
   ]
  },
  {
   "cell_type": "code",
   "execution_count": 218,
   "metadata": {},
   "outputs": [],
   "source": [
    "import numpy as np                      \n",
    "import pandas as pd                     \n",
    "import matplotlib.pyplot as plt\n",
    "\n",
    "from sklearn import preprocessing;\n",
    "from sklearn import cross_validation;\n",
    "from sklearn import linear_model;"
   ]
  },
  {
   "cell_type": "markdown",
   "metadata": {},
   "source": [
    "### Importing OS module\n",
    "\n",
    "It provides a way of using operating system dependent functionality. The functions that the OS module provides allows you to interface with the underlying operating system that Python is running on – be that Windows, Mac or Linux."
   ]
  },
  {
   "cell_type": "code",
   "execution_count": 3,
   "metadata": {},
   "outputs": [
    {
     "name": "stdout",
     "output_type": "stream",
     "text": [
      "['fundamentals.csv', 'prices.csv', 'retail_sales.csv', 'Drive-link-for-Prices-csv', 'securities.csv', 'SP500.csv']\n"
     ]
    }
   ],
   "source": [
    "import os\n",
    "a = os.listdir(\"/Users/rounakbose/Git Local/SMP-Methodology-master/SMP_Datasets\")\n",
    "print (a)"
   ]
  },
  {
   "cell_type": "markdown",
   "metadata": {},
   "source": [
    "### Reading the CSV file\n",
    "\n",
    "1. Load the CSV file of the dataset using the filepath, setting the DATE column as Index, so as to prevent complications observed during plotting.  \n",
    "2. Plot the existing dataset, to visualise the dataset."
   ]
  },
  {
   "cell_type": "code",
   "execution_count": 4,
   "metadata": {},
   "outputs": [
    {
     "data": {
      "text/plain": [
       "<matplotlib.axes._subplots.AxesSubplot at 0x1147d54e0>"
      ]
     },
     "execution_count": 4,
     "metadata": {},
     "output_type": "execute_result"
    },
    {
     "data": {
      "image/png": "[encoded data removed]",
      "text/plain": [
       "<Figure size 432x288 with 1 Axes>"
      ]
     },
     "metadata": {},
     "output_type": "display_data"
    }
   ],
   "source": [
    "df1 = pd.read_csv(\"/Users/rounakbose/Git Local/SMP-Methodology-master/SMP_Datasets/SP500.csv\", index_col='DATE', parse_dates=True) \n",
    "df1.plot()"
   ]
  },
  {
   "cell_type": "markdown",
   "metadata": {},
   "source": [
    "### Tabularising the CSV file\n",
    "\n",
    "We have 2198 values of 'DATE' and the corresponding price of the 'SP500' stock."
   ]
  },
  {
   "cell_type": "code",
   "execution_count": 7,
   "metadata": {},
   "outputs": [
    {
     "name": "stdout",
     "output_type": "stream",
     "text": [
      "         DATE    SP500\n",
      "0  2017-08-30  2457.59\n",
      "1  2017-08-29  2446.30\n",
      "2  2017-08-28  2444.24\n",
      "3  2017-08-25  2443.05\n",
      "4  2017-08-24  2438.97 \n",
      " . \n",
      " . \n",
      " .\n",
      "            DATE   SP500\n",
      "2193  2008-12-12  879.73\n",
      "2194  2008-12-11  873.59\n",
      "2195  2008-12-10  899.24\n",
      "2196  2008-12-09  888.67\n",
      "2197  2008-12-08  909.70\n"
     ]
    }
   ],
   "source": [
    "df = pd.read_csv(\"/Users/rounakbose/Git Local/SMP-Methodology-master/SMP_Datasets/SP500.csv\") \n",
    "print(df.head(), '\\n', '.', '\\n', '.', '\\n', '.')\n",
    "print(df.tail())\n",
    "\n",
    "#print('\\nMethod 1:')\n",
    "#df1 = df.iloc[:, 0:1]\n",
    "#df1 = df.iloc[:,0:2]\n",
    "#print('\\n', df1.tail())\n",
    "#print('\\nMethod 2:')\n",
    "#df2 = df.drop('SP500', axis=1)\n",
    "#print('\\n', df2.tail())"
   ]
  },
  {
   "cell_type": "markdown",
   "metadata": {},
   "source": [
    "### Setting initial requirements\n",
    "\n",
    "1. Selecting the column on which we want to make the forecast.  \n",
    "2. Choosing the range till which we want to make the forecast.  \n",
    "3. Choosing the size (in %) of the test set.  \n",
    "\n",
    "Note: According to the dataset, there are approximately 252 values for one full year of SP500 data."
   ]
  },
  {
   "cell_type": "code",
   "execution_count": 9,
   "metadata": {},
   "outputs": [],
   "source": [
    "forecast_col = 'SP500'                       \n",
    "forecast_out = 120\n",
    "test_size = 0.1;"
   ]
  },
  {
   "cell_type": "markdown",
   "metadata": {},
   "source": [
    "### Defining the prepare_data() function\n",
    "\n",
    "#### Feature Engineering\n",
    "Step 1: Create new column called label with the last 5 rows as NaN.  \n",
    "Step 2: Create the feature array.  \n",
    "Step 3: Preprocess the feature array through feature scaling.  \n",
    "Step 4: Create the separate column to use in the predicting, later on.  \n",
    "Step 5: Create X, that will have the training and the testing data.  \n",
    "Step 6: Then drop the NA values assigned earlier.  \n",
    "Step 7: Assign the new column, label, to Y.\n",
    "\n",
    "#### Cross Validation\n",
    "Step 8: Run the cross_validation.train_test_split() on the engineered features according to the specified test_size"
   ]
  },
  {
   "cell_type": "code",
   "execution_count": 10,
   "metadata": {},
   "outputs": [],
   "source": [
    "def prepare_data(df, forecast_col, forecast_out, test_size):\n",
    "    \n",
    "    label = df[forecast_col].shift(-forecast_out);\n",
    "    X = np.array(df[[forecast_col]]);             \n",
    "    X = preprocessing.scale(X)                    \n",
    "    X_lately = X[-forecast_out:]                  \n",
    "    X = X[:-forecast_out]                         \n",
    "    label.dropna(inplace=True);                   \n",
    "    y = np.array(label)\n",
    "    \n",
    "    X_train, X_test, Y_train, Y_test = cross_validation.train_test_split(X, y, test_size=test_size) \n",
    "\n",
    "    response = [X_train, X_test, Y_train, Y_test, X_lately];\n",
    "    return response;"
   ]
  },
  {
   "cell_type": "markdown",
   "metadata": {},
   "source": [
    "### Calling prepare_data() for Feature Engineering and Cross Validation"
   ]
  },
  {
   "cell_type": "code",
   "execution_count": 59,
   "metadata": {},
   "outputs": [],
   "source": [
    "X_train, X_test, Y_train, Y_test , X_lately =prepare_data(df,forecast_col,forecast_out,test_size);"
   ]
  },
  {
   "cell_type": "markdown",
   "metadata": {},
   "source": [
    "### Defining the Regression models\n",
    "\n",
    "## 1. Linear Regression\n",
    "\n",
    "Initialise and train the Linear Regression model on the training data.  \n",
    "Test the score of the model by evaluating on the test data.  \n",
    "\n",
    "Calculate the predicted dataset and store the array."
   ]
  },
  {
   "cell_type": "code",
   "execution_count": 60,
   "metadata": {},
   "outputs": [],
   "source": [
    "learner = linear_model.LinearRegression();         \n",
    "\n",
    "learner.fit(X_train,Y_train);  \n",
    "score=learner.score(X_test,Y_test); \n",
    "lin_reg = score\n",
    "\n",
    "forecast= learner.predict(X_lately);"
   ]
  },
  {
   "cell_type": "markdown",
   "metadata": {},
   "source": [
    "### Visualising the predicted data\n",
    "\n",
    "Visualise the predicted dataset of stock prices.  \n",
    "Visualise the accuracy of the Linear regression model."
   ]
  },
  {
   "cell_type": "code",
   "execution_count": 61,
   "metadata": {},
   "outputs": [
    {
     "name": "stdout",
     "output_type": "stream",
     "text": [
      "{'test_score': 0.936747975549684} \n",
      "\n",
      "{'test_score': 0.936747975549684, 'forecast_set': array([874.85711171, 851.87601225, 839.95450637, 826.61907698,\n",
      "       843.34404907, 820.75032591, 822.03835214, 836.70054539,\n",
      "       841.21347937, 842.74361579, 816.76034994, 826.62876138,\n",
      "       817.76752834, 841.42653634, 842.28844863, 861.64757961,\n",
      "       840.4968332 , 852.25370415, 837.02013084, 840.35156709,\n",
      "       811.56950742, 807.00815139, 807.81195723, 789.91517181,\n",
      "       792.19100761, 800.63581113, 786.77742371, 778.67157447,\n",
      "       784.9954927 , 767.86377548, 803.89945652, 799.73516121,\n",
      "       786.91300542, 776.68627089, 793.37250535, 791.27098888,\n",
      "       760.86194872, 751.55523292, 770.85625746, 777.65471166,\n",
      "       769.79097261, 747.22630268, 734.43320011, 724.41952255,\n",
      "       751.93292482, 768.31894264, 749.93793683, 742.42283646,\n",
      "       758.69264139, 706.02883234, 721.03966427, 731.0242886 ,\n",
      "       715.30649491, 691.84117506, 694.41722751, 688.79058664,\n",
      "       660.33779683, 658.63334107, 616.92259712, 623.5564164 ,\n",
      "       622.75261056, 652.11573469, 636.09772436, 640.44602342,\n",
      "       673.63448859, 690.81462785, 702.50370794, 710.48365988,\n",
      "       681.61444054, 707.4911779 , 716.10061634, 725.28143484,\n",
      "       726.00776542, 762.48892921, 770.57540964, 769.17117052,\n",
      "       762.79883026, 804.18030434, 802.93101575, 780.89898824,\n",
      "       767.70882496, 773.79063299, 761.13311213, 761.55922607,\n",
      "       780.21139529, 808.24775558, 780.76340653, 771.9118579 ,\n",
      "       767.43766154, 763.12810012, 775.46603552, 741.55123977,\n",
      "       785.03423033, 778.85557822, 777.77092455, 806.02034181,\n",
      "       804.53862743, 823.99460249, 842.76298461, 839.78018704,\n",
      "       866.94495062, 859.92375504, 864.13647239, 836.48748842,\n",
      "       824.27545031, 803.72513718, 806.99846698, 802.4952174 ,\n",
      "       797.66269796, 805.86539128, 821.60255379, 819.08460779,\n",
      "       837.62056412, 846.10410526, 802.90196253, 813.70976152,\n",
      "       807.76353519, 832.60404093, 822.367622  , 842.73393138])}\n"
     ]
    }
   ],
   "source": [
    "response={};\n",
    "response['test_score']=score; \n",
    "\n",
    "print(response, '\\n');\n",
    "\n",
    "response['forecast_set']=forecast;\n",
    "\n",
    "print(response);\n",
    "#print('\\n', type(response))"
   ]
  },
  {
   "cell_type": "markdown",
   "metadata": {},
   "source": [
    "## 2. Ridge Regression\n",
    "\n",
    "Initialise and train the Ridge Regression model on the training data.  \n",
    "Test the score of the model by evaluating on the test data.  \n",
    "\n",
    "Calculate the predicted dataset and store the array.\n",
    "\n",
    "Visualise the predicted dataset of stock prices.  \n",
    "Visualise the accuracy of the Linear regression model."
   ]
  },
  {
   "cell_type": "code",
   "execution_count": 65,
   "metadata": {},
   "outputs": [
    {
     "name": "stdout",
     "output_type": "stream",
     "text": [
      "{'test_score': 0.9474807086816863} \n",
      "\n",
      "{'test_score': 0.9474807086816863, 'forecast_set': array([875.50038536, 852.56016308, 840.65986235, 827.34815309,\n",
      "       844.04337596, 821.48984096, 822.77557613, 837.41168929,\n",
      "       841.91659598, 843.4440107 , 817.50696208, 827.35782028,\n",
      "       818.51234898, 842.12927398, 842.98965315, 862.31434946,\n",
      "       841.20122453, 852.93718317, 837.73070629, 841.05621681,\n",
      "       812.32535266, 807.77211006, 808.57448615, 790.70953429,\n",
      "       792.981322  , 801.41110448, 787.5773674 , 779.48593628,\n",
      "       785.79860596, 768.69736146, 804.66894472, 800.51205657,\n",
      "       787.71270795, 777.50416403, 794.16071817, 792.06293973,\n",
      "       761.70798906, 752.4178274 , 771.68452062, 778.4708822 ,\n",
      "       770.62113062, 748.09659716, 735.32625008, 725.33038416,\n",
      "       752.79484749, 769.151719  , 750.80340805, 743.30167502,\n",
      "       759.54254035, 706.97240603, 721.95653773, 731.92340211,\n",
      "       716.23356614, 692.80998477, 695.38145512, 689.76482252,\n",
      "       661.36264256, 659.66121858, 618.02466681, 624.6466863 ,\n",
      "       623.84431022, 653.15520526, 637.16568666, 641.50625126,\n",
      "       674.6356831 , 691.78526351, 703.45355187, 711.41930963,\n",
      "       682.60144085, 708.43215047, 717.02627504, 726.19076333,\n",
      "       726.91580196, 763.33207559, 771.40417235, 770.00243099,\n",
      "       763.64142541, 804.94929299, 803.70222655, 781.70938808,\n",
      "       768.54268655, 774.61367668, 761.97867015, 762.40402614,\n",
      "       781.02301818, 809.00950933, 781.57404754, 772.73824343,\n",
      "       768.27200546, 763.97010959, 776.28609913, 742.43162866,\n",
      "       785.83727469, 779.66961274, 778.58688838, 806.78605753,\n",
      "       805.30697872, 824.72834684, 843.46334506, 840.48585308,\n",
      "       867.60229787, 860.59359111, 864.79881517, 837.19901129,\n",
      "       825.00869511, 804.49493545, 807.76244288, 803.26720337,\n",
      "       798.44327968, 806.63138262, 822.34055295, 819.8270857 ,\n",
      "       838.33007155, 846.79852276, 803.673225  , 814.46179983,\n",
      "       808.52615024, 833.32247141, 823.10426031, 843.43434351])}\n"
     ]
    }
   ],
   "source": [
    "X_train, X_test, Y_train, Y_test , X_lately =prepare_data(df,forecast_col,forecast_out,test_size);\n",
    "\n",
    "learner = linear_model.Ridge();\n",
    "\n",
    "learner.fit(X_train,Y_train);   \n",
    "score=learner.score(X_test,Y_test);\n",
    "ridge_reg = score\n",
    "\n",
    "forecast= learner.predict(X_lately);\n",
    "\n",
    "response={};\n",
    "response['test_score']=score; \n",
    "\n",
    "print(response, '\\n');\n",
    "\n",
    "response['forecast_set']=forecast;\n",
    "\n",
    "print(response);"
   ]
  },
  {
   "cell_type": "markdown",
   "metadata": {},
   "source": [
    "## 3. Bayesian-Ridge Regression\n",
    "\n",
    "Initialise and train the Bayesian-Ridge Regression model on the training data.  \n",
    "Test the score of the model by evaluating on the test data.  \n",
    "\n",
    "Calculate the predicted dataset and store the array.\n",
    "\n",
    "Visualise the predicted dataset of stock prices.   \n",
    "Visualise the accuracy of the Linear regression model."
   ]
  },
  {
   "cell_type": "code",
   "execution_count": 71,
   "metadata": {},
   "outputs": [
    {
     "name": "stdout",
     "output_type": "stream",
     "text": [
      "{'test_score': 0.9545439315539958} \n",
      "\n",
      "{'test_score': 0.9545439315539958, 'forecast_set': array([877.94667821, 855.04428392, 843.16360656, 829.87384805,\n",
      "       846.54154082, 824.02519616, 825.30881118, 839.92078967,\n",
      "       844.41826786, 845.94316389, 820.04888497, 829.88349929,\n",
      "       821.05261401, 844.63059515, 845.48955558, 864.78238583,\n",
      "       843.70407604, 855.42068231, 840.23928061, 843.55930743,\n",
      "       814.87581993, 810.33008554, 811.13113852, 793.29564563,\n",
      "       795.5636872 , 803.97956913, 790.16864362, 782.09055512,\n",
      "       788.39281533, 771.31977045, 807.23203726, 803.08200374,\n",
      "       790.30376099, 780.11205077, 796.74113857, 794.64681933,\n",
      "       764.34192339, 755.06708103, 774.30200384, 781.07717484,\n",
      "       773.24036736, 750.75297642, 738.00368739, 728.02430446,\n",
      "       755.44347942, 771.77337876, 753.45532383, 745.96596101,\n",
      "       762.18004546, 709.69659829, 724.65602144, 734.60645065,\n",
      "       718.94248692, 695.55753059, 698.12476063, 692.51738976,\n",
      "       664.16204445, 662.46342608, 620.89553218, 627.50663209,\n",
      "       626.70557911, 655.96814105, 640.00498886, 644.33839596,\n",
      "       677.41319799, 694.53449907, 706.18354665, 714.13616903,\n",
      "       685.36582037, 711.15393564, 719.73388866, 728.88326489,\n",
      "       729.60710794, 765.96333183, 774.02211786, 772.62268795,\n",
      "       766.27217154, 807.51192324, 806.26691319, 784.31034049,\n",
      "       771.1653506 , 777.22632978, 764.61215813, 765.03681272,\n",
      "       783.6251024 , 811.56544436, 784.17522312, 775.35398908,\n",
      "       770.89511585, 766.60031372, 778.89599443, 745.09734934,\n",
      "       788.43142029, 782.27392869, 781.19298973, 809.34565899,\n",
      "       807.86901915, 827.25836181, 845.96246637, 842.98988422,\n",
      "       870.06161452, 863.06446498, 867.2627547 , 839.70846237,\n",
      "       827.53824779, 807.05831493, 810.3204343 , 805.83260735,\n",
      "       801.01663822, 809.19123913, 824.87450535, 822.36518275,\n",
      "       840.83765754, 849.29214443, 806.23795947, 817.00874414,\n",
      "       811.08288232, 835.83831483, 825.63695336, 845.93351265])}\n"
     ]
    }
   ],
   "source": [
    "X_train, X_test, Y_train, Y_test , X_lately =prepare_data(df,forecast_col,forecast_out,test_size);\n",
    "\n",
    "learner = linear_model.BayesianRidge(); \n",
    "\n",
    "learner.fit(X_train,Y_train);  \n",
    "score=learner.score(X_test,Y_test); \n",
    "bayesianridge_reg = score;\n",
    "\n",
    "forecast= learner.predict(X_lately);\n",
    "\n",
    "response={};\n",
    "response['test_score']=score; \n",
    "\n",
    "print(response, '\\n');\n",
    "\n",
    "response['forecast_set']=forecast;\n",
    "\n",
    "print(response);"
   ]
  },
  {
   "cell_type": "markdown",
   "metadata": {},
   "source": [
    "## 4. Lasso Regression\n",
    "\n",
    "Initialise and train the Lasso Regression model on the training data.  \n",
    "Test the score of the model by evaluating on the test data.  \n",
    "\n",
    "Calculate the predicted dataset and store the array.\n",
    "\n",
    "Visualise the predicted dataset of stock prices.  \n",
    "Visualise the accuracy of the Linear regression model."
   ]
  },
  {
   "cell_type": "code",
   "execution_count": 82,
   "metadata": {},
   "outputs": [
    {
     "name": "stdout",
     "output_type": "stream",
     "text": [
      "{'test_score': 0.9568207062764479} \n",
      "\n",
      "{'test_score': 0.9568207062764479, 'forecast_set': array([880.80781478, 857.97007397, 846.12293577, 832.87069426,\n",
      "       849.49133412, 827.03855312, 828.31854449, 842.88927335,\n",
      "       847.37405516, 848.89464641, 823.07346706, 832.88031825,\n",
      "       824.07436257, 847.58578305, 848.44231863, 867.68068521,\n",
      "       846.66187951, 858.34540978, 843.2068652 , 846.51751958,\n",
      "       817.91500558, 813.3821038 , 814.18089541, 796.39575212,\n",
      "       798.65739101, 807.0495149 , 793.27757765, 785.22229359,\n",
      "       791.50676252, 774.48191485, 810.29280132, 806.15448334,\n",
      "       793.41231358, 783.24937456, 799.83151844, 797.74311146,\n",
      "       767.52376626, 758.27510679, 777.4557294 , 784.21177409,\n",
      "       776.39708992, 753.9731809 , 741.25988312, 731.308672  ,\n",
      "       758.65044261, 774.93424263, 756.66789958, 749.19967924,\n",
      "       765.36799132, 713.03270495, 727.94989764, 737.87223678,\n",
      "       722.25249243, 698.93355185, 701.4935346 , 695.90199334,\n",
      "       667.62669518, 665.93287201, 624.48232431, 631.07476108,\n",
      "       630.27596947, 659.45592318, 643.53783498, 647.85900886,\n",
      "       680.84044071, 697.91340835, 709.52957066, 717.45974278,\n",
      "       688.77061283, 714.48592824, 723.04166005, 732.16520758,\n",
      "       732.88700722, 769.14059747, 777.17663353, 775.78115422,\n",
      "       769.44856532, 810.57189718, 809.33040179, 787.43581251,\n",
      "       774.32793093, 780.37179997, 767.79323813, 768.21669392,\n",
      "       786.75250884, 814.6139752 , 787.30107658, 778.50474488,\n",
      "       774.05845906, 769.77578116, 782.03675115, 748.33351966,\n",
      "       791.5452585 , 785.4051495 , 784.32726203, 812.40045628,\n",
      "       810.92798501, 830.26259154, 848.9138944 , 845.94970385,\n",
      "       872.94501063, 865.96761405, 870.154052  , 842.67754546,\n",
      "       830.5416874 , 810.1195694 , 813.37247981, 808.897322  ,\n",
      "       804.09494835, 812.24647236, 827.8854647 , 825.38322593,\n",
      "       843.80355291, 852.23417278, 809.3015298 , 820.04190854,\n",
      "       814.13277544, 838.81832335, 828.64576033, 848.88502242])}\n"
     ]
    }
   ],
   "source": [
    "X_train, X_test, Y_train, Y_test , X_lately =prepare_data(df,forecast_col,forecast_out,test_size);\n",
    "\n",
    "learner = linear_model.Lasso(alpha=0.1);\n",
    "\n",
    "learner.fit(X_train,Y_train);  \n",
    "score=learner.score(X_test,Y_test); \n",
    "lasso_reg = score\n",
    "\n",
    "forecast= learner.predict(X_lately);\n",
    "\n",
    "response={};\n",
    "response['test_score']=score; \n",
    "\n",
    "print(response, '\\n');\n",
    "\n",
    "response['forecast_set']=forecast;\n",
    "\n",
    "print(response);"
   ]
  },
  {
   "cell_type": "markdown",
   "metadata": {},
   "source": [
    "### Comparative Study\n",
    "\n",
    "Comparing the prediction scores of the models on the same dataset, when using:  \n",
    "1. Linear Regression model.  \n",
    "2. Ridge Regression model.  \n",
    "3. Bayesian Ridge Regression model.  \n",
    "4. Lasso Regression model."
   ]
  },
  {
   "cell_type": "code",
   "execution_count": 85,
   "metadata": {},
   "outputs": [
    {
     "name": "stdout",
     "output_type": "stream",
     "text": [
      "Linear Regression model score:\n",
      " 0.936747975549684\n",
      "Ridge Regression model score:\n",
      " 0.9474807086816863\n",
      "Bayesian Ridge Regression model score:\n",
      " 0.9545439315539958\n",
      "Lasso Regression model score:\n",
      " 0.9568207062764479\n"
     ]
    }
   ],
   "source": [
    "print('Linear Regression model score:\\n', lin_reg)\n",
    "print('Ridge Regression model score:\\n', ridge_reg)\n",
    "print('Bayesian Ridge Regression model score:\\n', bayesianridge_reg)\n",
    "print('Lasso Regression model score:\\n', lasso_reg)"
   ]
  },
  {
   "cell_type": "code",
   "execution_count": 217,
   "metadata": {},
   "outputs": [
    {
     "data": {
      "image/png": "[encoded data removed]",
      "text/plain": [
       "<Figure size 432x288 with 1 Axes>"
      ]
     },
     "metadata": {},
     "output_type": "display_data"
    }
   ],
   "source": [
    "plt.plot([lin_reg, ridge_reg, bayesianridge_reg, lasso_reg], 'ro')\n",
    "plt.axis([0, 3, 0.9, 1])\n",
    "plt.grid(True, color='blue')\n",
    "plt.xlabel('Regression models', fontsize=14, color='blue')\n",
    "plt.ylabel('Performance Score\\n', fontsize=14, color='blue')\n",
    "plt.title('Performance Comparison of Regression models\\n', fontsize=18, color='green')\n",
    "plt.show()"
   ]
  },
  {
   "cell_type": "code",
   "execution_count": 212,
   "metadata": {},
   "outputs": [
    {
     "data": {
      "image/png": "[encoded data removed]",
      "text/plain": [
       "<Figure size 432x288 with 1 Axes>"
      ]
     },
     "metadata": {},
     "output_type": "display_data"
    }
   ],
   "source": [
    "objects = ('', 'Linear', 'Ridge', 'Bayesian Ridge', 'Lasso')\n",
    "y_pos = np.arange(len(objects))\n",
    "performance = [0, lin_reg, ridge_reg, bayesianridge_reg, lasso_reg]\n",
    " \n",
    "plt.bar(y_pos, performance, align='center', alpha=0.75, color='orange', width=0.8)\n",
    "plt.axis([1, 5, 0.932, 0.96])\n",
    "plt.grid(True, color='black')\n",
    "plt.xticks(y_pos, objects, fontsize=10)\n",
    "plt.xlabel('Regression  Models', fontsize=14, color='blue')\n",
    "plt.ylabel('Performance  Score', fontsize=14, color='blue')\n",
    "plt.title('Performance Comparison of Regression models\\n', fontsize=18, color='green') \n",
    "plt.show()"
   ]
  },
  {
   "cell_type": "markdown",
   "metadata": {},
   "source": [
    "### Conclusion\n",
    "\n",
    "From the comparative study done here, we can conclude that Linear Regression will perform with the least accuracy compared to the other models tested here.  \n",
    "Lasso Regression and Bayesian Ridge Regression are almost neck-to-neck with respect to the performance score.  \n",
    "Ridge Regression does work better than Linear Regression, but not as good as Bayesian Ridge Regression, or Lasso regression.\n",
    "\n",
    "#### For long-term stock market predictions, Lasso Regression turned out to perform the best with accuracy nearing 96%.\n",
    "\n",
    "There is, nonetheless, huge scope for improvement."
   ]
  }
 ],
 "metadata": {
  "kernelspec": {
   "display_name": "Python 3",
   "language": "python",
   "name": "python3"
  },
  "language_info": {
   "codemirror_mode": {
    "name": "ipython",
    "version": 3
   },
   "file_extension": ".py",
   "mimetype": "text/x-python",
   "name": "python",
   "nbconvert_exporter": "python",
   "pygments_lexer": "ipython3",
   "version": "3.6.5"
  }
 },
 "nbformat": 4,
 "nbformat_minor": 2
}
